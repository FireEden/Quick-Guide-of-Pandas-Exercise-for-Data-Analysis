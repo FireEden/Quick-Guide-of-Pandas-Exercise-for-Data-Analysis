{
 "cells": [
  {
   "cell_type": "markdown",
   "metadata": {},
   "source": [
    "# 101 Pandas Exercise for Data Analysis\n"
   ]
  },
  {
   "cell_type": "markdown",
   "metadata": {},
   "source": [
    "Source inspriration:\n",
    "https://www.machinelearningplus.com/python/101-pandas-exercises-python/"
   ]
  },
  {
   "cell_type": "code",
   "execution_count": 1,
   "metadata": {},
   "outputs": [],
   "source": [
    "import pandas as pd\n",
    "import numpy as np"
   ]
  },
  {
   "cell_type": "code",
   "execution_count": 2,
   "metadata": {},
   "outputs": [
    {
     "data": {
      "text/plain": [
       "'0.24.2'"
      ]
     },
     "execution_count": 2,
     "metadata": {},
     "output_type": "execute_result"
    }
   ],
   "source": [
    "#How to check the version?\n",
    "pd.__version__"
   ]
  },
  {
   "cell_type": "code",
   "execution_count": 3,
   "metadata": {},
   "outputs": [
    {
     "name": "stdout",
     "output_type": "stream",
     "text": [
      "[0 1 2 3 4 5 6 7 8 9]\n",
      "[10. 11. 12. 13. 14. 15. 16. 17. 18. 19. 20. 21. 22.]\n",
      "[30. 31. 32. 33. 34. 35. 36. 37. 38. 39. 40. 41. 42. 43. 44. 45. 46. 47.]\n",
      "[31. 35. 39. 43. 47.]\n",
      "----\n",
      "[ 4 10 11 12]\n",
      "----\n",
      "[ 2.   4.5  7.   9.5 12. ]\n"
     ]
    }
   ],
   "source": [
    "# Creating an array from range\n",
    "\n",
    "createarr = np.arange(10)\n",
    "createarr2 = np.arange(10, 23, dtype = float)\n",
    "createarr3 = np.arange(start = 30, stop = 48, dtype = float)\n",
    "createarr4 = np.arange(start = 31, stop = 48, step = 4, dtype = float)\n",
    "\n",
    "#creating an array using defined numbers\n",
    "createarr6 = np.array([4,10,11,12])\n",
    "\n",
    "# creating an array with defined range and defined number of elemets spaced equally among each other\n",
    "createarr7 = np.linspace (2,12, 5)\n",
    "\n",
    "print(createarr)\n",
    "print(createarr2)\n",
    "print(createarr3)\n",
    "print(createarr4)\n",
    "print('----')\n",
    "\n",
    "print(createarr6)\n",
    "print('----')\n",
    "print(createarr7)\n",
    "\n"
   ]
  },
  {
   "cell_type": "code",
   "execution_count": 4,
   "metadata": {},
   "outputs": [
    {
     "name": "stdout",
     "output_type": "stream",
     "text": [
      "['a', 'b', 'c', 'e', 'd', 'f']\n",
      "['ab', 'cd', 'ef']\n",
      "[ 5  6  7  8  9 10]\n",
      "{'a': 5, 'b': 6, 'c': 7, 'e': 8, 'd': 9, 'f': 10}\n",
      "0    a\n",
      "1    b\n",
      "2    c\n",
      "3    e\n",
      "4    d\n",
      "5    f\n",
      "dtype: object\n",
      "0    ab\n",
      "1    cd\n",
      "2    ef\n",
      "dtype: object\n",
      "0     5\n",
      "1     6\n",
      "2     7\n",
      "3     8\n",
      "4     9\n",
      "5    10\n",
      "dtype: int32\n",
      "a     5\n",
      "b     6\n",
      "c     7\n",
      "e     8\n",
      "d     9\n",
      "f    10\n",
      "dtype: int64\n"
     ]
    }
   ],
   "source": [
    "#How to create a series from a list, numpy array and dict?\n",
    "\n",
    "#input\n",
    "mylist = list('abcedf')\n",
    "mylist2 = list(['ab','cd','ef'])\n",
    "\n",
    "myarr = np.arange(5,11, dtype = int)\n",
    "mydict = dict(zip(mylist, myarr))\n",
    "\n",
    "print(mylist)\n",
    "print(mylist2)\n",
    "print(myarr)\n",
    "print(mydict)\n",
    "\n",
    "mylistasseries = pd.Series(mylist)\n",
    "mylist2asseries = pd.Series(mylist2)\n",
    "myarrasseries = pd.Series(myarr)\n",
    "mydictasseries = pd.Series(mydict)\n",
    "\n",
    "print(mylistasseries)\n",
    "print(mylist2asseries)\n",
    "print(myarrasseries)\n",
    "print(mydictasseries)\n",
    "\n",
    "\n"
   ]
  },
  {
   "cell_type": "code",
   "execution_count": 5,
   "metadata": {},
   "outputs": [
    {
     "name": "stdout",
     "output_type": "stream",
     "text": [
      "{'Standing': ['d', 'a', 'e', 'c', 'f', 'b'], 'Country': ['Canada', 'France', 'Sweden', 'Japan', 'Netherland', 'Germany'], 'Goals': array([5, 7, 3, 6, 7, 5])}\n",
      "  Standing     Country  Goals\n",
      "0        d      Canada      5\n",
      "1        a      France      7\n",
      "2        e      Sweden      3\n",
      "3        c       Japan      6\n",
      "4        f  Netherland      7\n",
      "5        b     Germany      5\n"
     ]
    }
   ],
   "source": [
    "#How to convert a series into a column of a dataframe?\n",
    "#input\n",
    "mylist = list('daecfb')\n",
    "mycountry = list(['Canada','France','Sweden', 'Japan', 'Netherland', 'Germany'])\n",
    "myarr = np.array([5,7,3,6,7,5])\n",
    "\n",
    "myset = {'Standing': mylist, 'Country':mycountry, 'Goals': myarr}\n",
    "\n",
    "print(myset)\n",
    "\n",
    "df = pd.DataFrame(myset)\n",
    "\n",
    "print(df)\n",
    "\n"
   ]
  },
  {
   "cell_type": "code",
   "execution_count": 6,
   "metadata": {},
   "outputs": [
    {
     "data": {
      "text/plain": [
       "pandas.core.frame.DataFrame"
      ]
     },
     "execution_count": 6,
     "metadata": {},
     "output_type": "execute_result"
    }
   ],
   "source": [
    "# check the type of the object\n",
    "\n",
    "type(df)"
   ]
  },
  {
   "cell_type": "code",
   "execution_count": 12,
   "metadata": {},
   "outputs": [
    {
     "name": "stdout",
     "output_type": "stream",
     "text": [
      "  Standing     Country  Goals  Roster Count\n",
      "0        d      Canada      5            15\n",
      "1        a      France      7            16\n",
      "2        e      Sweden      3            16\n",
      "3        c       Japan      6            17\n",
      "4        f  Netherland      7            15\n",
      "5        b     Germany      5            18\n",
      "  Standing     Country  Goals  Roster Count\n",
      "0        d      Canada      5            15\n",
      "1        a      France      7            16\n",
      "2        e      Sweden      3            16\n",
      "3        c       Japan      6            17\n",
      "4        f  Netherland      7            15\n",
      "5        b     Germany      5            18\n"
     ]
    }
   ],
   "source": [
    "#add to existing dataframe. Continuation of previous step\n",
    "\n",
    "print(df)\n",
    "\n",
    "df['Roster Count'] = [15,16,16,17,15,18]\n",
    "\n",
    "print(df)"
   ]
  },
  {
   "cell_type": "code",
   "execution_count": 13,
   "metadata": {},
   "outputs": [
    {
     "name": "stdout",
     "output_type": "stream",
     "text": [
      "  Standing     Country  Goals  Roster Count\n",
      "0        d      Canada      5            15\n",
      "1        a      France      7            16\n",
      "2        e      Sweden      3            16\n",
      "3        c       Japan      6            17\n",
      "4        f  Netherland      7            15\n",
      "5        b     Germany      5            18\n",
      "<class 'list'>\n",
      "  Standing     Country  Goals  Roster Count    Capital\n",
      "0        d      Canada      5            15     Ottawa\n",
      "1        a      France      7            16      Paris\n",
      "2        e      Sweden      3            16  Stockholm\n",
      "3        c       Japan      6            17      Tokyo\n",
      "4        f  Netherland      7            15  Amsterdam\n",
      "5        b     Germany      5            18     Berlin\n"
     ]
    }
   ],
   "source": [
    "#add to existing dataframe by first creating a copy of the orginal data frame. Continuation of previous step\n",
    "print (df)\n",
    "\n",
    "capital = ['Ottawa', 'Paris', 'Stockholm', 'Tokyo', 'Amsterdam', 'Berlin']\n",
    "\n",
    "print(type(capital))\n",
    "\n",
    "df2 = df.assign(Capital = capital)\n",
    "\n",
    "print(df2)"
   ]
  },
  {
   "cell_type": "code",
   "execution_count": 14,
   "metadata": {},
   "outputs": [
    {
     "name": "stdout",
     "output_type": "stream",
     "text": [
      "  Standing     Country  Goals  Roster Count    Capital  Podium Appearance\n",
      "0        d      Canada      5            15     Ottawa                  1\n",
      "1        a      France      7            16      Paris                  5\n",
      "2        e      Sweden      3            16  Stockholm                  3\n",
      "3        c       Japan      6            17      Tokyo                  2\n",
      "4        f  Netherland      7            15  Amsterdam                  3\n",
      "5        b     Germany      5            18     Berlin                  4\n"
     ]
    }
   ],
   "source": [
    "#How to give a name to a series index? The name of the series will be the column name when created as a column in a Dataframe\n",
    "\n",
    "#input\n",
    "myseries = pd.Series(list([1,5,3,2,3,4]))\n",
    "\n",
    "myseries.head()\n",
    "\n",
    "myseries.name = 'Podium Appearance'\n",
    "myseries.head()\n",
    "\n",
    "\n",
    "df3 = pd.concat([df2,myseries], axis =1)\n",
    "\n",
    "print (df3)"
   ]
  },
  {
   "cell_type": "code",
   "execution_count": 16,
   "metadata": {},
   "outputs": [
    {
     "data": {
      "text/html": [
       "<div>\n",
       "<style scoped>\n",
       "    .dataframe tbody tr th:only-of-type {\n",
       "        vertical-align: middle;\n",
       "    }\n",
       "\n",
       "    .dataframe tbody tr th {\n",
       "        vertical-align: top;\n",
       "    }\n",
       "\n",
       "    .dataframe thead th {\n",
       "        text-align: right;\n",
       "    }\n",
       "</style>\n",
       "<table border=\"1\" class=\"dataframe\">\n",
       "  <thead>\n",
       "    <tr style=\"text-align: right;\">\n",
       "      <th></th>\n",
       "      <th>Standing</th>\n",
       "      <th>Country</th>\n",
       "      <th>Goals</th>\n",
       "      <th>Roster Count</th>\n",
       "    </tr>\n",
       "  </thead>\n",
       "  <tbody>\n",
       "    <tr>\n",
       "      <th>0</th>\n",
       "      <td>d</td>\n",
       "      <td>Canada</td>\n",
       "      <td>5</td>\n",
       "      <td>15</td>\n",
       "    </tr>\n",
       "    <tr>\n",
       "      <th>5</th>\n",
       "      <td>b</td>\n",
       "      <td>Germany</td>\n",
       "      <td>5</td>\n",
       "      <td>18</td>\n",
       "    </tr>\n",
       "    <tr>\n",
       "      <th>2</th>\n",
       "      <td>e</td>\n",
       "      <td>Sweden</td>\n",
       "      <td>3</td>\n",
       "      <td>16</td>\n",
       "    </tr>\n",
       "  </tbody>\n",
       "</table>\n",
       "</div>"
      ],
      "text/plain": [
       "  Standing  Country  Goals  Roster Count\n",
       "0        d   Canada      5            15\n",
       "5        b  Germany      5            18\n",
       "2        e   Sweden      3            16"
      ]
     },
     "execution_count": 16,
     "metadata": {},
     "output_type": "execute_result"
    }
   ],
   "source": [
    "# Get a sample set from any data\n",
    "# let n be the number of outputs desired. .sample(n)\n",
    "df.sample(3)\n"
   ]
  },
  {
   "cell_type": "markdown",
   "metadata": {},
   "source": [
    "## More Advanced Topics"
   ]
  },
  {
   "cell_type": "code",
   "execution_count": 20,
   "metadata": {},
   "outputs": [
    {
     "name": "stdout",
     "output_type": "stream",
     "text": [
      "0     18.121727\n",
      "1      6.941218\n",
      "2      7.359141\n",
      "3      4.635157\n",
      "4     14.327038\n",
      "5     -1.507693\n",
      "6     18.724059\n",
      "7      6.193965\n",
      "8     11.595195\n",
      "9      8.753148\n",
      "10    17.310540\n",
      "11    -0.300704\n",
      "12     8.387914\n",
      "13     8.079728\n",
      "14    15.668847\n",
      "15     4.500544\n",
      "16     9.137859\n",
      "17     5.610708\n",
      "18    10.211069\n",
      "19    12.914076\n",
      "20     4.496904\n",
      "21    15.723619\n",
      "22    14.507954\n",
      "23    12.512472\n",
      "24    14.504280\n",
      "dtype: float64\n"
     ]
    },
    {
     "data": {
      "text/plain": [
       "array([-1.50769348,  6.1939655 ,  9.13785896, 14.50427975, 18.72405882])"
      ]
     },
     "execution_count": 20,
     "metadata": {},
     "output_type": "execute_result"
    }
   ],
   "source": [
    "#How to get the minimum, 25th percentile, median, 75th, and max of a numeric series?\n",
    "np.random.seed(1) #set a seed for replicability\n",
    "\n",
    "ser = pd.Series(np.random.normal(loc = 10, scale = 5, size = 25)) # mean of 10, standard deviation of 10, 25 results\n",
    "print (ser)\n",
    "\n",
    "np.percentile(ser, q=[0,25,50,75,100])\n",
    "\n",
    "\n"
   ]
  },
  {
   "cell_type": "code",
   "execution_count": 10,
   "metadata": {},
   "outputs": [
    {
     "name": "stdout",
     "output_type": "stream",
     "text": [
      "<class 'pandas.core.frame.DataFrame'>\n",
      "RangeIndex: 6 entries, 0 to 5\n",
      "Data columns (total 6 columns):\n",
      "Standing             6 non-null object\n",
      "Country              6 non-null object\n",
      "Goals                6 non-null int32\n",
      "Roster Count         6 non-null int64\n",
      "Capital              6 non-null object\n",
      "Podium Appearance    6 non-null int64\n",
      "dtypes: int32(1), int64(2), object(3)\n",
      "memory usage: 344.0+ bytes\n",
      "f    1\n",
      "b    1\n",
      "d    1\n",
      "e    1\n",
      "c    1\n",
      "a    1\n",
      "Name: Standing, dtype: int64\n",
      "3    2\n",
      "5    1\n",
      "4    1\n",
      "2    1\n",
      "1    1\n",
      "Name: Podium Appearance, dtype: int64\n",
      "3    2\n",
      "5    1\n",
      "4    1\n",
      "2    1\n",
      "1    1\n",
      "Name: Podium Appearance, dtype: int64\n"
     ]
    }
   ],
   "source": [
    "# Get the frequency counts of unique items of a series or a column in dataframe\n",
    "df3.info()\n",
    "\n",
    "# check the unique counts per column\n",
    "print(df3['Standing'].value_counts())\n",
    "print(df3['Podium Appearance'].value_counts())\n",
    "\n",
    "# check the unique count for a series\n",
    "print(myseries.value_counts())"
   ]
  },
  {
   "cell_type": "code",
   "execution_count": 10,
   "metadata": {},
   "outputs": [
    {
     "name": "stdout",
     "output_type": "stream",
     "text": [
      "[0.26992789 0.89588622 0.42809119 0.96484005 0.6634415  0.62169572\n",
      " 0.11474597 0.94948926 0.44991213 0.57838961 0.4081368  0.23702698\n",
      " 0.90337952 0.57367949 0.00287033 0.61714491 0.3266449  0.5270581\n",
      " 0.8859421  0.35726976]\n",
      "0      2nd\n",
      "1      9th\n",
      "2      4th\n",
      "3     10th\n",
      "4      8th\n",
      "5      7th\n",
      "6      1st\n",
      "7     10th\n",
      "8      5th\n",
      "9      6th\n",
      "10     4th\n",
      "11     2nd\n",
      "12     9th\n",
      "13     6th\n",
      "14     1st\n",
      "15     7th\n",
      "16     3rd\n",
      "17     5th\n",
      "18     8th\n",
      "19     3rd\n",
      "dtype: category\n",
      "Categories (10, object): [1st < 2nd < 3rd < 4th ... 7th < 8th < 9th < 10th]\n",
      "    Random Value Percentile\n",
      "0       0.269928        2nd\n",
      "1       0.895886        9th\n",
      "2       0.428091        4th\n",
      "3       0.964840       10th\n",
      "4       0.663441        8th\n",
      "5       0.621696        7th\n",
      "6       0.114746        1st\n",
      "7       0.949489       10th\n",
      "8       0.449912        5th\n",
      "9       0.578390        6th\n",
      "10      0.408137        4th\n",
      "11      0.237027        2nd\n",
      "12      0.903380        9th\n",
      "13      0.573679        6th\n",
      "14      0.002870        1st\n",
      "15      0.617145        7th\n",
      "16      0.326645        3rd\n",
      "17      0.527058        5th\n",
      "18      0.885942        8th\n",
      "19      0.357270        3rd\n"
     ]
    }
   ],
   "source": [
    "# Bin numeric series to n groups of equal size\n",
    "array = np.random.random_sample((20))\n",
    "\n",
    "print(array)\n",
    "\n",
    "# notice the array is change to a series first before binning\n",
    "array2 = pd.qcut(pd.Series(array), q=[0, .10, .20, .3, .4, .5, .6, .7, .8, .9, 1], \n",
    "        labels=['1st', '2nd', '3rd', '4th', '5th', '6th', '7th', '8th', '9th', '10th'])\n",
    "# bins are assigned by index in the format of a category\n",
    "print(array2)\n",
    "type(array2)\n",
    "\n",
    "# combine the lables and the array into a dataframe\n",
    "\n",
    "myset = {'Random Value': pd.Series(array), 'Percentile': array2}\n",
    "\n",
    "df = pd.DataFrame(myset)\n",
    "\n",
    "print(df)\n",
    "\n",
    "\n"
   ]
  },
  {
   "cell_type": "code",
   "execution_count": 8,
   "metadata": {},
   "outputs": [
    {
     "name": "stdout",
     "output_type": "stream",
     "text": [
      "0    0\n",
      "1    1\n",
      "2    2\n",
      "3    3\n",
      "4    4\n",
      "5    5\n",
      "6    6\n",
      "7    7\n",
      "8    8\n",
      "9    9\n",
      "dtype: int64\n",
      "0    0.672279\n",
      "1    1.488078\n",
      "2    2.825495\n",
      "3    3.031446\n",
      "4    4.808050\n",
      "5    5.565617\n",
      "6    6.297622\n",
      "7    7.046696\n",
      "8    8.990627\n",
      "9    9.006826\n",
      "dtype: float64\n"
     ]
    },
    {
     "data": {
      "text/plain": [
       "0.34176268277743493"
      ]
     },
     "execution_count": 8,
     "metadata": {},
     "output_type": "execute_result"
    }
   ],
   "source": [
    "# Find the Mean Square Error (MSE) of the truth and the predicted values (both in Series format)\n",
    "# MSE is the average (mean) of earch pairs (truth - prediction)^2\n",
    "\n",
    "np.random.seed(99) #set a seed for replicability\n",
    "\n",
    "truth = pd.Series(range(10))\n",
    "pred = pd.Series(range(10)) + np.random.random(10)\n",
    "\n",
    "print(truth)\n",
    "print (pred)\n",
    "\n",
    "np.mean((truth - pred)**2)"
   ]
  },
  {
   "cell_type": "code",
   "execution_count": 10,
   "metadata": {},
   "outputs": [
    {
     "name": "stdout",
     "output_type": "stream",
     "text": [
      "0    0\n",
      "1    1\n",
      "2    2\n",
      "3    3\n",
      "4    4\n",
      "5    5\n",
      "6    6\n",
      "7    7\n",
      "dtype: int64\n",
      "4    4\n",
      "7    7\n",
      "6    6\n",
      "dtype: int64\n",
      "0    0.672279\n",
      "1    1.488078\n",
      "2    2.825495\n",
      "3    3.031446\n",
      "4    4.808050\n",
      "5    5.565617\n",
      "6    6.297622\n",
      "7    7.046696\n",
      "dtype: float64\n",
      "--- 0.03590583801269531 seconds ---\n"
     ]
    }
   ],
   "source": [
    "# Measure the time it takes to execute code\n",
    "\n",
    "import time\n",
    "start = time.time()\n",
    "\n",
    "np.random.seed(99) #set a seed for replicability\n",
    "\n",
    "truth = pd.Series(range(8))\n",
    "pred = pd.Series(range(8)) + np.random.random(8)\n",
    "\n",
    "print(truth)\n",
    "print (pred)\n",
    "\n",
    "np.mean((truth - pred)**2)\n",
    "\n",
    "end = time.time()\n",
    "\n",
    "print(\"--- %s seconds ---\" % (end - start))"
   ]
  },
  {
   "cell_type": "code",
   "execution_count": 21,
   "metadata": {},
   "outputs": [
    {
     "data": {
      "text/plain": [
       "0    3\n",
       "1    7\n",
       "2    4\n",
       "3    4\n",
       "dtype: int64"
      ]
     },
     "execution_count": 21,
     "metadata": {},
     "output_type": "execute_result"
    }
   ],
   "source": [
    "#count the number of characters in each string in a series\n",
    "ser = pd.Series(['how', 'best to', 'kick', 'ass?'])\n",
    "\n",
    "ser.str.len()"
   ]
  },
  {
   "cell_type": "code",
   "execution_count": 5,
   "metadata": {},
   "outputs": [
    {
     "name": "stdout",
     "output_type": "stream",
     "text": [
      "  Carrier Code                    Name  Avg Delay Hour\n",
      "0           AA  American Airlines Inc.               5\n",
      "1           VS          Virgin America               1\n",
      "2           DL          Delta Airlines               4\n",
      "3           NK        Spirit Air Lines               6\n",
      "  Carrier Code                    Name  Avg Delay Hour  Name Length\n",
      "0           AA  American Airlines Inc.               5           22\n",
      "1           VS          Virgin America               1           14\n",
      "2           DL          Delta Airlines               4           14\n",
      "3           NK        Spirit Air Lines               6           16\n",
      "  Carrier Code                    Name  Avg Delay Hour  Name Length  \\\n",
      "0           AA  American Airlines Inc.               5           22   \n",
      "1           VS          Virgin America               1           14   \n",
      "2           DL          Delta Airlines               4           14   \n",
      "3           NK        Spirit Air Lines               6           16   \n",
      "\n",
      "   Name Length without space  \n",
      "0                         20  \n",
      "1                         13  \n",
      "2                         13  \n",
      "3                         14  \n"
     ]
    }
   ],
   "source": [
    "#count the number of characters in each string in a column in a dataframe\n",
    "#input- create sample dataframe\n",
    "code= list(['AA','VS', 'DL','NK'])\n",
    "name = list(['American Airlines Inc.','Virgin America','Delta Airlines', 'Spirit Air Lines'])\n",
    "avgdelayhour = np.array([5,1,4,6])\n",
    "\n",
    "flightset = {'Carrier Code': code, 'Name':name, 'Avg Delay Hour': avgdelayhour}\n",
    "\n",
    "dfflight = pd.DataFrame(flightset)\n",
    "\n",
    "print(dfflight)\n",
    "\n",
    "dfflight['Name Length']= dfflight.Name.map(lambda x: len(x))\n",
    "\n",
    "print(dfflight)\n",
    "\n",
    "#exclude certain characters in the count, spaces (or anything really). define exclusion in .count(i)\n",
    "\n",
    "dfflight['Name Length without space']= dfflight.Name.map(lambda x: len(x) - x.count(' '))\n",
    "\n",
    "print(dfflight)\n"
   ]
  },
  {
   "cell_type": "code",
   "execution_count": 11,
   "metadata": {},
   "outputs": [
    {
     "name": "stdout",
     "output_type": "stream",
     "text": [
      "[1.0, 2.0, 3.0, 4.0, 5.0, 6.0, 7.0, 8.0, 9.0, 10.0]\n",
      "['carrot', 'apple', 'banana', 'apple', 'apple', 'apple', 'banana', 'banana', 'carrot', 'banana']\n"
     ]
    },
    {
     "data": {
      "text/plain": [
       "apple     4.25\n",
       "banana    7.00\n",
       "carrot    5.00\n",
       "dtype: float64"
      ]
     },
     "execution_count": 11,
     "metadata": {},
     "output_type": "execute_result"
    }
   ],
   "source": [
    "# How to get the mean, min, max using Group By\n",
    "np.random.seed(3)\n",
    "fruit = pd.Series(np.random.choice(['apple', 'banana', 'carrot'], 10))\n",
    "weight = pd.Series(np.linspace(1, 10, 10))\n",
    "print(weight.tolist())\n",
    "print(fruit.tolist())\n",
    "\n",
    "weight.groupby(fruit).mean()\n",
    "\n",
    "# let's try to put the 2 lists into a Dataframe and see if it works\n",
    "fruitsets\n"
   ]
  }
 ],
 "metadata": {
  "kernelspec": {
   "display_name": "Python 3",
   "language": "python",
   "name": "python3"
  },
  "language_info": {
   "codemirror_mode": {
    "name": "ipython",
    "version": 3
   },
   "file_extension": ".py",
   "mimetype": "text/x-python",
   "name": "python",
   "nbconvert_exporter": "python",
   "pygments_lexer": "ipython3",
   "version": "3.7.3"
  }
 },
 "nbformat": 4,
 "nbformat_minor": 2
}
